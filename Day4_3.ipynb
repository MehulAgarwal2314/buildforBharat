{
  "nbformat": 4,
  "nbformat_minor": 0,
  "metadata": {
    "colab": {
      "provenance": [],
      "authorship_tag": "ABX9TyOzYl7+VK9aqxpMjxO3Gzov",
      "include_colab_link": true
    },
    "kernelspec": {
      "name": "python3",
      "display_name": "Python 3"
    },
    "language_info": {
      "name": "python"
    }
  },
  "cells": [
    {
      "cell_type": "markdown",
      "metadata": {
        "id": "view-in-github",
        "colab_type": "text"
      },
      "source": [
        "<a href=\"https://colab.research.google.com/github/MehulAgarwal2314/buildforBharat/blob/master/Day4_3.ipynb\" target=\"_parent\"><img src=\"https://colab.research.google.com/assets/colab-badge.svg\" alt=\"Open In Colab\"/></a>"
      ]
    },
    {
      "cell_type": "code",
      "source": [
        "import numpy as np\n",
        "import pandas as pd\n",
        "from keras.layers import Input, Dense\n",
        "from keras.models import Model\n",
        "from sklearn.preprocessing import StandardScaler\n",
        "from sklearn.preprocessing import MinMaxScaler"
      ],
      "metadata": {
        "id": "RfwWo9RUoU8p"
      },
      "execution_count": 34,
      "outputs": []
    },
    {
      "cell_type": "code",
      "execution_count": 42,
      "metadata": {
        "colab": {
          "base_uri": "https://localhost:8080/"
        },
        "id": "Q5TM8_uAn7e9",
        "outputId": "967a3ba4-3c7e-45b1-8a66-2a81e2c84bed"
      },
      "outputs": [
        {
          "output_type": "stream",
          "name": "stderr",
          "text": [
            "<ipython-input-42-2ba97be4e89e>:1: DtypeWarning: Columns (1,2,3,4,5,6,7,8,9,10,11,12,13,14,15) have mixed types. Specify dtype option on import or set low_memory=False.\n",
            "  df=pd.read_csv(r'/content/Critical Tags 1.csv',encoding='unicode_escape')\n"
          ]
        }
      ],
      "source": [
        "df=pd.read_csv(r'/content/Critical Tags 1.csv',encoding='unicode_escape')"
      ]
    },
    {
      "cell_type": "code",
      "source": [
        "df.drop(['Unnamed: 4'],axis=1,inplace=True)"
      ],
      "metadata": {
        "id": "2Qak0BQ9sepP"
      },
      "execution_count": 43,
      "outputs": []
    },
    {
      "cell_type": "code",
      "source": [
        "df = df.drop(index=1)"
      ],
      "metadata": {
        "id": "IKuzV1gpsghz"
      },
      "execution_count": 44,
      "outputs": []
    },
    {
      "cell_type": "code",
      "source": [
        "df = df.drop(index=0)"
      ],
      "metadata": {
        "id": "2FL07ulpskML"
      },
      "execution_count": 45,
      "outputs": []
    },
    {
      "cell_type": "code",
      "source": [
        "for col in df.columns:\n",
        "    df[col] = pd.to_numeric(df[col], errors='coerce')"
      ],
      "metadata": {
        "id": "4B77IbH0sm9p"
      },
      "execution_count": 46,
      "outputs": []
    },
    {
      "cell_type": "code",
      "source": [
        "input_data = df.iloc[:, :2]"
      ],
      "metadata": {
        "id": "HN5oGsY_wfdk"
      },
      "execution_count": 47,
      "outputs": []
    },
    {
      "cell_type": "code",
      "source": [
        "output_data = df.iloc[:, 2:]"
      ],
      "metadata": {
        "id": "I8jWbFlssEtW"
      },
      "execution_count": 48,
      "outputs": []
    },
    {
      "cell_type": "code",
      "source": [
        "scaler_input = MinMaxScaler()\n",
        "scaler_output = MinMaxScaler()"
      ],
      "metadata": {
        "id": "gGY4grd8sHe6"
      },
      "execution_count": 49,
      "outputs": []
    },
    {
      "cell_type": "code",
      "source": [
        "normalized_input = scaler_input.fit_transform(input_data)\n",
        "normalized_output = scaler_output.fit_transform(output_data)"
      ],
      "metadata": {
        "id": "t1613DYysMfN"
      },
      "execution_count": 50,
      "outputs": []
    },
    {
      "cell_type": "code",
      "source": [
        "from tensorflow.keras.layers import Input, Dense\n",
        "from tensorflow.keras.models import Model"
      ],
      "metadata": {
        "id": "T0IAEMPJsP5h"
      },
      "execution_count": 51,
      "outputs": []
    },
    {
      "cell_type": "code",
      "source": [
        "input_layer = Input(shape=(2,))"
      ],
      "metadata": {
        "id": "hyUaDfNAsydq"
      },
      "execution_count": 52,
      "outputs": []
    },
    {
      "cell_type": "code",
      "source": [
        "encoded = Dense(8, activation='relu')(input_layer)\n",
        "encoded = Dense(4, activation='relu')(encoded)"
      ],
      "metadata": {
        "id": "jv_hal87vK88"
      },
      "execution_count": 64,
      "outputs": []
    },
    {
      "cell_type": "code",
      "source": [
        "decoded = Dense(8, activation='relu')(encoded)\n",
        "decoded = Dense(13, activation='linear')(decoded)"
      ],
      "metadata": {
        "id": "TRuhinJWvZHl"
      },
      "execution_count": 65,
      "outputs": []
    },
    {
      "cell_type": "code",
      "source": [
        "autoencoder = Model(input_layer, decoded)"
      ],
      "metadata": {
        "id": "HeI0PrxHvbkm"
      },
      "execution_count": 66,
      "outputs": []
    },
    {
      "cell_type": "code",
      "source": [
        "autoencoder.compile(optimizer='adam', loss='mse')"
      ],
      "metadata": {
        "id": "PQtsrj3gvgIq"
      },
      "execution_count": 67,
      "outputs": []
    },
    {
      "cell_type": "code",
      "source": [
        "autoencoder.fit(normalized_input, normalized_output, epochs=50, batch_size=32)"
      ],
      "metadata": {
        "colab": {
          "base_uri": "https://localhost:8080/"
        },
        "id": "nCopEC8pviv6",
        "outputId": "03a6acab-164b-40dd-9678-bbb9d1961ee3"
      },
      "execution_count": 68,
      "outputs": [
        {
          "output_type": "stream",
          "name": "stdout",
          "text": [
            "Epoch 1/50\n",
            "1881/1881 [==============================] - 5s 2ms/step - loss: 0.0301\n",
            "Epoch 2/50\n",
            "1881/1881 [==============================] - 3s 2ms/step - loss: 0.0042\n",
            "Epoch 3/50\n",
            "1881/1881 [==============================] - 3s 2ms/step - loss: 0.0032\n",
            "Epoch 4/50\n",
            "1881/1881 [==============================] - 3s 2ms/step - loss: 0.0022\n",
            "Epoch 5/50\n",
            "1881/1881 [==============================] - 4s 2ms/step - loss: 0.0016\n",
            "Epoch 6/50\n",
            "1881/1881 [==============================] - 3s 2ms/step - loss: 0.0014\n",
            "Epoch 7/50\n",
            "1881/1881 [==============================] - 3s 2ms/step - loss: 0.0012\n",
            "Epoch 8/50\n",
            "1881/1881 [==============================] - 3s 2ms/step - loss: 0.0012\n",
            "Epoch 9/50\n",
            "1881/1881 [==============================] - 4s 2ms/step - loss: 0.0011\n",
            "Epoch 10/50\n",
            "1881/1881 [==============================] - 4s 2ms/step - loss: 0.0011\n",
            "Epoch 11/50\n",
            "1881/1881 [==============================] - 3s 2ms/step - loss: 0.0011\n",
            "Epoch 12/50\n",
            "1881/1881 [==============================] - 3s 2ms/step - loss: 0.0011\n",
            "Epoch 13/50\n",
            "1881/1881 [==============================] - 4s 2ms/step - loss: 0.0010\n",
            "Epoch 14/50\n",
            "1881/1881 [==============================] - 4s 2ms/step - loss: 0.0010\n",
            "Epoch 15/50\n",
            "1881/1881 [==============================] - 3s 2ms/step - loss: 0.0010\n",
            "Epoch 16/50\n",
            "1881/1881 [==============================] - 3s 2ms/step - loss: 0.0010\n",
            "Epoch 17/50\n",
            "1881/1881 [==============================] - 3s 2ms/step - loss: 0.0010\n",
            "Epoch 18/50\n",
            "1881/1881 [==============================] - 4s 2ms/step - loss: 0.0010\n",
            "Epoch 19/50\n",
            "1881/1881 [==============================] - 4s 2ms/step - loss: 0.0010\n",
            "Epoch 20/50\n",
            "1881/1881 [==============================] - 3s 2ms/step - loss: 0.0010\n",
            "Epoch 21/50\n",
            "1881/1881 [==============================] - 3s 2ms/step - loss: 0.0010\n",
            "Epoch 22/50\n",
            "1881/1881 [==============================] - 4s 2ms/step - loss: 0.0010\n",
            "Epoch 23/50\n",
            "1881/1881 [==============================] - 4s 2ms/step - loss: 0.0010\n",
            "Epoch 24/50\n",
            "1881/1881 [==============================] - 3s 2ms/step - loss: 0.0010\n",
            "Epoch 25/50\n",
            "1881/1881 [==============================] - 3s 2ms/step - loss: 0.0010\n",
            "Epoch 26/50\n",
            "1881/1881 [==============================] - 3s 2ms/step - loss: 0.0010\n",
            "Epoch 27/50\n",
            "1881/1881 [==============================] - 4s 2ms/step - loss: 0.0010\n",
            "Epoch 28/50\n",
            "1881/1881 [==============================] - 3s 2ms/step - loss: 0.0010\n",
            "Epoch 29/50\n",
            "1881/1881 [==============================] - 3s 2ms/step - loss: 0.0010\n",
            "Epoch 30/50\n",
            "1881/1881 [==============================] - 3s 2ms/step - loss: 0.0010\n",
            "Epoch 31/50\n",
            "1881/1881 [==============================] - 4s 2ms/step - loss: 0.0010\n",
            "Epoch 32/50\n",
            "1881/1881 [==============================] - 3s 2ms/step - loss: 0.0010\n",
            "Epoch 33/50\n",
            "1881/1881 [==============================] - 3s 2ms/step - loss: 0.0010\n",
            "Epoch 34/50\n",
            "1881/1881 [==============================] - 3s 2ms/step - loss: 0.0010\n",
            "Epoch 35/50\n",
            "1881/1881 [==============================] - 4s 2ms/step - loss: 0.0010\n",
            "Epoch 36/50\n",
            "1881/1881 [==============================] - 4s 2ms/step - loss: 0.0010\n",
            "Epoch 37/50\n",
            "1881/1881 [==============================] - 3s 2ms/step - loss: 9.9809e-04\n",
            "Epoch 38/50\n",
            "1881/1881 [==============================] - 4s 2ms/step - loss: 9.9881e-04\n",
            "Epoch 39/50\n",
            "1881/1881 [==============================] - 5s 3ms/step - loss: 9.9617e-04\n",
            "Epoch 40/50\n",
            "1881/1881 [==============================] - 4s 2ms/step - loss: 9.9208e-04\n",
            "Epoch 41/50\n",
            "1881/1881 [==============================] - 3s 2ms/step - loss: 9.9064e-04\n",
            "Epoch 42/50\n",
            "1881/1881 [==============================] - 3s 2ms/step - loss: 9.8725e-04\n",
            "Epoch 43/50\n",
            "1881/1881 [==============================] - 4s 2ms/step - loss: 9.8830e-04\n",
            "Epoch 44/50\n",
            "1881/1881 [==============================] - 4s 2ms/step - loss: 9.8498e-04\n",
            "Epoch 45/50\n",
            "1881/1881 [==============================] - 3s 2ms/step - loss: 9.8228e-04\n",
            "Epoch 46/50\n",
            "1881/1881 [==============================] - 3s 2ms/step - loss: 9.8352e-04\n",
            "Epoch 47/50\n",
            "1881/1881 [==============================] - 3s 2ms/step - loss: 9.8082e-04\n",
            "Epoch 48/50\n",
            "1881/1881 [==============================] - 4s 2ms/step - loss: 9.8431e-04\n",
            "Epoch 49/50\n",
            "1881/1881 [==============================] - 3s 2ms/step - loss: 9.7456e-04\n",
            "Epoch 50/50\n",
            "1881/1881 [==============================] - 3s 2ms/step - loss: 9.7789e-04\n"
          ]
        },
        {
          "output_type": "execute_result",
          "data": {
            "text/plain": [
              "<keras.src.callbacks.History at 0x7b0306eadde0>"
            ]
          },
          "metadata": {},
          "execution_count": 68
        }
      ]
    },
    {
      "cell_type": "code",
      "source": [
        "reconstructions = autoencoder.predict(normalized_input)\n",
        "reconstruction_errors = np.mean(np.abs(normalized_output - reconstructions), axis=1)"
      ],
      "metadata": {
        "colab": {
          "base_uri": "https://localhost:8080/"
        },
        "id": "2-n-4_NlvlgF",
        "outputId": "bd3fe288-5edf-416a-e928-8c2fda801e54"
      },
      "execution_count": 69,
      "outputs": [
        {
          "output_type": "stream",
          "name": "stdout",
          "text": [
            "1881/1881 [==============================] - 3s 1ms/step\n"
          ]
        }
      ]
    },
    {
      "cell_type": "code",
      "source": [
        "threshold = 0.05"
      ],
      "metadata": {
        "id": "6f3G8OkRvnL0"
      },
      "execution_count": 70,
      "outputs": []
    },
    {
      "cell_type": "code",
      "source": [
        "anomalies = reconstruction_errors > threshold"
      ],
      "metadata": {
        "id": "LGVBsAjkvp90"
      },
      "execution_count": 72,
      "outputs": []
    },
    {
      "cell_type": "code",
      "source": [
        "anomalies"
      ],
      "metadata": {
        "colab": {
          "base_uri": "https://localhost:8080/"
        },
        "id": "Y1CdQihM3cKb",
        "outputId": "4f15fde9-d276-48d1-fd94-edd2547f5278"
      },
      "execution_count": 73,
      "outputs": [
        {
          "output_type": "execute_result",
          "data": {
            "text/plain": [
              "array([ True,  True,  True, ..., False, False, False])"
            ]
          },
          "metadata": {},
          "execution_count": 73
        }
      ]
    },
    {
      "cell_type": "code",
      "source": [],
      "metadata": {
        "id": "YIM59XnF45Ef"
      },
      "execution_count": null,
      "outputs": []
    },
    {
      "cell_type": "code",
      "source": [],
      "metadata": {
        "id": "f7h0-AQQvtnv"
      },
      "execution_count": null,
      "outputs": []
    }
  ]
}