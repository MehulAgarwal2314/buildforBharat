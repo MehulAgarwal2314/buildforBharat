{
  "nbformat": 4,
  "nbformat_minor": 0,
  "metadata": {
    "colab": {
      "provenance": [],
      "authorship_tag": "ABX9TyPC+Ufh/tTclZda3A3eYFNF",
      "include_colab_link": true
    },
    "kernelspec": {
      "name": "python3",
      "display_name": "Python 3"
    },
    "language_info": {
      "name": "python"
    }
  },
  "cells": [
    {
      "cell_type": "markdown",
      "metadata": {
        "id": "view-in-github",
        "colab_type": "text"
      },
      "source": [
        "<a href=\"https://colab.research.google.com/github/MehulAgarwal2314/buildforBharat/blob/master/day4_final.ipynb\" target=\"_parent\"><img src=\"https://colab.research.google.com/assets/colab-badge.svg\" alt=\"Open In Colab\"/></a>"
      ]
    },
    {
      "cell_type": "code",
      "source": [
        "import numpy as np\n",
        "import pandas as pd\n",
        "from keras.layers import Input, Dense\n",
        "from keras.models import Model\n",
        "from sklearn.preprocessing import StandardScaler\n",
        "from sklearn.preprocessing import MinMaxScaler"
      ],
      "metadata": {
        "id": "RfwWo9RUoU8p"
      },
      "execution_count": 83,
      "outputs": []
    },
    {
      "cell_type": "code",
      "execution_count": 84,
      "metadata": {
        "colab": {
          "base_uri": "https://localhost:8080/"
        },
        "id": "Q5TM8_uAn7e9",
        "outputId": "d8b2d527-3f81-4fbd-9489-121a847c7935"
      },
      "outputs": [
        {
          "output_type": "stream",
          "name": "stderr",
          "text": [
            "<ipython-input-84-2ba97be4e89e>:1: DtypeWarning: Columns (1,2,3,4,5,6,7,8,9,10,11,12,13,14,15) have mixed types. Specify dtype option on import or set low_memory=False.\n",
            "  df=pd.read_csv(r'/content/Critical Tags 1.csv',encoding='unicode_escape')\n"
          ]
        }
      ],
      "source": [
        "df=pd.read_csv(r'/content/Critical Tags 1.csv',encoding='unicode_escape')"
      ]
    },
    {
      "cell_type": "code",
      "source": [
        "df.drop(['Unnamed: 4'],axis=1,inplace=True)"
      ],
      "metadata": {
        "id": "2Qak0BQ9sepP"
      },
      "execution_count": 85,
      "outputs": []
    },
    {
      "cell_type": "code",
      "source": [
        "df = df.drop(index=1)"
      ],
      "metadata": {
        "id": "IKuzV1gpsghz"
      },
      "execution_count": 86,
      "outputs": []
    },
    {
      "cell_type": "code",
      "source": [
        "df = df.drop(index=0)"
      ],
      "metadata": {
        "id": "2FL07ulpskML"
      },
      "execution_count": 87,
      "outputs": []
    },
    {
      "cell_type": "code",
      "source": [
        "for col in df.columns:\n",
        "    df[col] = pd.to_numeric(df[col], errors='coerce')"
      ],
      "metadata": {
        "id": "4B77IbH0sm9p"
      },
      "execution_count": 88,
      "outputs": []
    },
    {
      "cell_type": "code",
      "source": [
        "scaler = MinMaxScaler()"
      ],
      "metadata": {
        "id": "gGY4grd8sHe6"
      },
      "execution_count": 89,
      "outputs": []
    },
    {
      "cell_type": "code",
      "source": [
        "normalized_data = scaler.fit_transform(df)"
      ],
      "metadata": {
        "id": "t1613DYysMfN"
      },
      "execution_count": 90,
      "outputs": []
    },
    {
      "cell_type": "code",
      "source": [
        "normalized_data_subset = normalized_data[:, :14]"
      ],
      "metadata": {
        "id": "JcchlhqFBSCN"
      },
      "execution_count": 101,
      "outputs": []
    },
    {
      "cell_type": "code",
      "source": [
        "from tensorflow.keras.layers import Input, Dense\n",
        "from tensorflow.keras.models import Model"
      ],
      "metadata": {
        "id": "T0IAEMPJsP5h"
      },
      "execution_count": 102,
      "outputs": []
    },
    {
      "cell_type": "code",
      "source": [
        "input_layer = Input(shape=(14,))"
      ],
      "metadata": {
        "id": "hyUaDfNAsydq"
      },
      "execution_count": 103,
      "outputs": []
    },
    {
      "cell_type": "code",
      "source": [
        "encoded = Dense(8, activation='relu')(input_layer)\n",
        "encoded = Dense(4, activation='relu')(encoded)"
      ],
      "metadata": {
        "id": "jv_hal87vK88"
      },
      "execution_count": 104,
      "outputs": []
    },
    {
      "cell_type": "code",
      "source": [
        "decoded = Dense(8, activation='relu')(encoded)\n",
        "decoded = Dense(14, activation='linear')(decoded)"
      ],
      "metadata": {
        "id": "TRuhinJWvZHl"
      },
      "execution_count": 105,
      "outputs": []
    },
    {
      "cell_type": "code",
      "source": [
        "autoencoder = Model(input_layer, decoded)"
      ],
      "metadata": {
        "id": "HeI0PrxHvbkm"
      },
      "execution_count": 106,
      "outputs": []
    },
    {
      "cell_type": "code",
      "source": [
        "autoencoder.compile(optimizer='adam', loss='mse')"
      ],
      "metadata": {
        "id": "PQtsrj3gvgIq"
      },
      "execution_count": 107,
      "outputs": []
    },
    {
      "cell_type": "code",
      "source": [
        "autoencoder.fit(normalized_data_subset, normalized_data_subset, epochs=50, batch_size=32)"
      ],
      "metadata": {
        "colab": {
          "base_uri": "https://localhost:8080/"
        },
        "id": "nCopEC8pviv6",
        "outputId": "5bfeadee-26f5-4b20-a93e-50c317624e00"
      },
      "execution_count": 108,
      "outputs": [
        {
          "output_type": "stream",
          "name": "stdout",
          "text": [
            "Epoch 1/50\n",
            "1881/1881 [==============================] - 4s 2ms/step - loss: 0.0255\n",
            "Epoch 2/50\n",
            "1881/1881 [==============================] - 3s 2ms/step - loss: 3.2754e-04\n",
            "Epoch 3/50\n",
            "1881/1881 [==============================] - 4s 2ms/step - loss: 2.1891e-04\n",
            "Epoch 4/50\n",
            "1881/1881 [==============================] - 4s 2ms/step - loss: 1.6988e-04\n",
            "Epoch 5/50\n",
            "1881/1881 [==============================] - 3s 2ms/step - loss: 1.5263e-04\n",
            "Epoch 6/50\n",
            "1881/1881 [==============================] - 3s 2ms/step - loss: 1.4243e-04\n",
            "Epoch 7/50\n",
            "1881/1881 [==============================] - 3s 2ms/step - loss: 1.3352e-04\n",
            "Epoch 8/50\n",
            "1881/1881 [==============================] - 4s 2ms/step - loss: 1.2122e-04\n",
            "Epoch 9/50\n",
            "1881/1881 [==============================] - 3s 2ms/step - loss: 9.9774e-05\n",
            "Epoch 10/50\n",
            "1881/1881 [==============================] - 3s 2ms/step - loss: 7.0298e-05\n",
            "Epoch 11/50\n",
            "1881/1881 [==============================] - 3s 2ms/step - loss: 5.4336e-05\n",
            "Epoch 12/50\n",
            "1881/1881 [==============================] - 4s 2ms/step - loss: 4.4309e-05\n",
            "Epoch 13/50\n",
            "1881/1881 [==============================] - 3s 2ms/step - loss: 3.8341e-05\n",
            "Epoch 14/50\n",
            "1881/1881 [==============================] - 3s 2ms/step - loss: 3.5604e-05\n",
            "Epoch 15/50\n",
            "1881/1881 [==============================] - 3s 2ms/step - loss: 3.4462e-05\n",
            "Epoch 16/50\n",
            "1881/1881 [==============================] - 4s 2ms/step - loss: 3.3633e-05\n",
            "Epoch 17/50\n",
            "1881/1881 [==============================] - 4s 2ms/step - loss: 3.2703e-05\n",
            "Epoch 18/50\n",
            "1881/1881 [==============================] - 3s 2ms/step - loss: 3.2422e-05\n",
            "Epoch 19/50\n",
            "1881/1881 [==============================] - 3s 2ms/step - loss: 3.2478e-05\n",
            "Epoch 20/50\n",
            "1881/1881 [==============================] - 3s 2ms/step - loss: 3.2263e-05\n",
            "Epoch 21/50\n",
            "1881/1881 [==============================] - 4s 2ms/step - loss: 3.1668e-05\n",
            "Epoch 22/50\n",
            "1881/1881 [==============================] - 3s 2ms/step - loss: 3.1874e-05\n",
            "Epoch 23/50\n",
            "1881/1881 [==============================] - 3s 2ms/step - loss: 3.1525e-05\n",
            "Epoch 24/50\n",
            "1881/1881 [==============================] - 3s 2ms/step - loss: 3.1434e-05\n",
            "Epoch 25/50\n",
            "1881/1881 [==============================] - 4s 2ms/step - loss: 3.0855e-05\n",
            "Epoch 26/50\n",
            "1881/1881 [==============================] - 3s 2ms/step - loss: 3.0269e-05\n",
            "Epoch 27/50\n",
            "1881/1881 [==============================] - 3s 2ms/step - loss: 3.0474e-05\n",
            "Epoch 28/50\n",
            "1881/1881 [==============================] - 3s 2ms/step - loss: 2.9969e-05\n",
            "Epoch 29/50\n",
            "1881/1881 [==============================] - 4s 2ms/step - loss: 3.0086e-05\n",
            "Epoch 30/50\n",
            "1881/1881 [==============================] - 4s 2ms/step - loss: 2.9813e-05\n",
            "Epoch 31/50\n",
            "1881/1881 [==============================] - 3s 2ms/step - loss: 2.9949e-05\n",
            "Epoch 32/50\n",
            "1881/1881 [==============================] - 3s 2ms/step - loss: 2.9958e-05\n",
            "Epoch 33/50\n",
            "1881/1881 [==============================] - 3s 2ms/step - loss: 2.9691e-05\n",
            "Epoch 34/50\n",
            "1881/1881 [==============================] - 4s 2ms/step - loss: 2.9754e-05\n",
            "Epoch 35/50\n",
            "1881/1881 [==============================] - 3s 2ms/step - loss: 2.9600e-05\n",
            "Epoch 36/50\n",
            "1881/1881 [==============================] - 3s 2ms/step - loss: 2.9233e-05\n",
            "Epoch 37/50\n",
            "1881/1881 [==============================] - 3s 2ms/step - loss: 2.9462e-05\n",
            "Epoch 38/50\n",
            "1881/1881 [==============================] - 4s 2ms/step - loss: 2.9062e-05\n",
            "Epoch 39/50\n",
            "1881/1881 [==============================] - 4s 2ms/step - loss: 2.9476e-05\n",
            "Epoch 40/50\n",
            "1881/1881 [==============================] - 3s 2ms/step - loss: 2.8981e-05\n",
            "Epoch 41/50\n",
            "1881/1881 [==============================] - 3s 2ms/step - loss: 2.9054e-05\n",
            "Epoch 42/50\n",
            "1881/1881 [==============================] - 3s 2ms/step - loss: 2.9390e-05\n",
            "Epoch 43/50\n",
            "1881/1881 [==============================] - 4s 2ms/step - loss: 2.9069e-05\n",
            "Epoch 44/50\n",
            "1881/1881 [==============================] - 3s 2ms/step - loss: 2.8990e-05\n",
            "Epoch 45/50\n",
            "1881/1881 [==============================] - 3s 2ms/step - loss: 2.8767e-05\n",
            "Epoch 46/50\n",
            "1881/1881 [==============================] - 3s 2ms/step - loss: 2.8797e-05\n",
            "Epoch 47/50\n",
            "1881/1881 [==============================] - 4s 2ms/step - loss: 2.8731e-05\n",
            "Epoch 48/50\n",
            "1881/1881 [==============================] - 4s 2ms/step - loss: 2.9081e-05\n",
            "Epoch 49/50\n",
            "1881/1881 [==============================] - 3s 2ms/step - loss: 2.8557e-05\n",
            "Epoch 50/50\n",
            "1881/1881 [==============================] - 3s 2ms/step - loss: 2.8636e-05\n"
          ]
        },
        {
          "output_type": "execute_result",
          "data": {
            "text/plain": [
              "<keras.src.callbacks.History at 0x7b0311648d90>"
            ]
          },
          "metadata": {},
          "execution_count": 108
        }
      ]
    },
    {
      "cell_type": "code",
      "source": [
        "reconstructions = autoencoder.predict(normalized_data_subset)\n",
        "reconstruction_errors = np.mean(np.abs(normalized_data_subset - reconstructions), axis=1)"
      ],
      "metadata": {
        "colab": {
          "base_uri": "https://localhost:8080/"
        },
        "id": "2-n-4_NlvlgF",
        "outputId": "c02e9005-640b-4bdc-f8c5-6af4b4fa4c05"
      },
      "execution_count": 110,
      "outputs": [
        {
          "output_type": "stream",
          "name": "stdout",
          "text": [
            "1881/1881 [==============================] - 2s 1ms/step\n"
          ]
        }
      ]
    },
    {
      "cell_type": "code",
      "source": [
        "reconstruction_errors"
      ],
      "metadata": {
        "colab": {
          "base_uri": "https://localhost:8080/"
        },
        "id": "UlvOLCL5-vUx",
        "outputId": "03c46f95-6b36-4e01-9765-9fd02a50331d"
      },
      "execution_count": 111,
      "outputs": [
        {
          "output_type": "execute_result",
          "data": {
            "text/plain": [
              "array([0.01049688, 0.01049501, 0.0104911 , ..., 0.0017828 , 0.00178347,\n",
              "       0.00178179])"
            ]
          },
          "metadata": {},
          "execution_count": 111
        }
      ]
    },
    {
      "cell_type": "code",
      "source": [
        "threshold = 0.05"
      ],
      "metadata": {
        "id": "6f3G8OkRvnL0"
      },
      "execution_count": 132,
      "outputs": []
    },
    {
      "cell_type": "code",
      "source": [
        "anomalies = reconstruction_errors > threshold"
      ],
      "metadata": {
        "id": "LGVBsAjkvp90"
      },
      "execution_count": 133,
      "outputs": []
    },
    {
      "cell_type": "code",
      "source": [
        "anomalies"
      ],
      "metadata": {
        "colab": {
          "base_uri": "https://localhost:8080/"
        },
        "id": "Y1CdQihM3cKb",
        "outputId": "71d199d7-7317-4741-a589-d897e8d01ea2"
      },
      "execution_count": 134,
      "outputs": [
        {
          "output_type": "execute_result",
          "data": {
            "text/plain": [
              "array([False, False, False, ..., False, False, False])"
            ]
          },
          "metadata": {},
          "execution_count": 134
        }
      ]
    },
    {
      "cell_type": "code",
      "source": [
        "df1 = pd.DataFrame({\n",
        "    'Index': range(len(reconstruction_errors)),  # Index numbers\n",
        "    'Reconstruction Error': reconstruction_errors,\n",
        "    'Anomaly': anomalies\n",
        "})"
      ],
      "metadata": {
        "id": "YIM59XnF45Ef"
      },
      "execution_count": 135,
      "outputs": []
    },
    {
      "cell_type": "code",
      "source": [
        "print(df1[df1['Anomaly'] == True])"
      ],
      "metadata": {
        "colab": {
          "base_uri": "https://localhost:8080/"
        },
        "id": "f7h0-AQQvtnv",
        "outputId": "99c7b03c-203b-4768-d4fa-f91db6cca097"
      },
      "execution_count": 136,
      "outputs": [
        {
          "output_type": "stream",
          "name": "stdout",
          "text": [
            "     Index  Reconstruction Error  Anomaly\n",
            "201    201              0.051434     True\n"
          ]
        }
      ]
    },
    {
      "cell_type": "code",
      "source": [],
      "metadata": {
        "id": "_7Ktn70F_IFh"
      },
      "execution_count": null,
      "outputs": []
    }
  ]
}